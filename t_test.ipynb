{
 "cells": [
  {
   "cell_type": "code",
   "execution_count": 1,
   "id": "12fa84fb-35ff-46b7-9c45-34aee47da563",
   "metadata": {},
   "outputs": [],
   "source": [
    "import pandas as pd\n",
    "import numpy as np\n",
    "import matplotlib.pyplot as plt\n",
    "import seaborn as sns\n",
    "\n",
    "# modelling\n",
    "import statsmodels.formula.api as smf\n",
    "\n",
    "from scipy import stats\n",
    "from statsmodels.stats.weightstats import DescrStatsW, CompareMeans"
   ]
  },
  {
   "cell_type": "markdown",
   "id": "7d51ba32-83ea-421d-a5ad-42f6c94343eb",
   "metadata": {},
   "source": [
    "### ***I. Import Data***"
   ]
  },
  {
   "cell_type": "code",
   "execution_count": 2,
   "id": "4c4120fe-967c-45a4-9c71-ed2ad9cee48f",
   "metadata": {},
   "outputs": [],
   "source": [
    "def importData(filename):\n",
    "    \"\"\"\n",
    "    Fungsi untuk import data & hapus duplikat\n",
    "    :param filename: <string> nama file input (format .csv)\n",
    "    :return df: <pandas dataframe> sampel data\n",
    "    \"\"\"\n",
    "\n",
    "    # read data\n",
    "    df = pd.read_csv(filename, encoding='utf-8')\n",
    "    print(\"Data asli            : \", df.shape, \"- (#observasi, #kolom)\")\n",
    "\n",
    "    # drop duplicates\n",
    "    df = df.drop_duplicates()\n",
    "    print(\"Data setelah di-drop : \", df.shape, \"- (#observasi, #kolom)\")\n",
    "\n",
    "    return df\n",
    "\n",
    "# (filename) adalah argumen\n",
    "# Argumen adalah sebuah variable. \n",
    "# Jika fungsi tsb. diberi argumen filename = \"bank_data.csv\", \n",
    "# maka semua variabel 'filename' di dalam fungsi \n",
    "# akan berubah menjadi \"bank_data.csv\""
   ]
  },
  {
   "cell_type": "code",
   "execution_count": 6,
   "id": "6c42f10c-58a8-4b94-8cb3-6f5d8a583092",
   "metadata": {},
   "outputs": [],
   "source": [
    "data = 'stat_test.csv'"
   ]
  },
  {
   "cell_type": "code",
   "execution_count": 9,
   "id": "51556aa6-2646-42d4-af43-3d4d6bbc2217",
   "metadata": {},
   "outputs": [
    {
     "name": "stdout",
     "output_type": "stream",
     "text": [
      "Data asli            :  (6281, 8) - (#observasi, #kolom)\n",
      "Data setelah di-drop :  (6281, 8) - (#observasi, #kolom)\n"
     ]
    }
   ],
   "source": [
    "df = importData(filename = data)"
   ]
  },
  {
   "cell_type": "code",
   "execution_count": 8,
   "id": "3d943430-373d-47d7-a21f-b84f11e9920d",
   "metadata": {},
   "outputs": [
    {
     "data": {
      "text/html": [
       "<div>\n",
       "<style scoped>\n",
       "    .dataframe tbody tr th:only-of-type {\n",
       "        vertical-align: middle;\n",
       "    }\n",
       "\n",
       "    .dataframe tbody tr th {\n",
       "        vertical-align: top;\n",
       "    }\n",
       "\n",
       "    .dataframe thead th {\n",
       "        text-align: right;\n",
       "    }\n",
       "</style>\n",
       "<table border=\"1\" class=\"dataframe\">\n",
       "  <thead>\n",
       "    <tr style=\"text-align: right;\">\n",
       "      <th></th>\n",
       "      <th>Unnamed: 0</th>\n",
       "      <th>Vehicle Class</th>\n",
       "      <th>Engine Size(L)</th>\n",
       "      <th>Cylinders</th>\n",
       "      <th>Transmission</th>\n",
       "      <th>Fuel Type</th>\n",
       "      <th>Fuel Consumption Comb (L/100 km)</th>\n",
       "      <th>CO2 Emissions(g/km)</th>\n",
       "    </tr>\n",
       "  </thead>\n",
       "  <tbody>\n",
       "    <tr>\n",
       "      <th>0</th>\n",
       "      <td>0</td>\n",
       "      <td>COMPACT</td>\n",
       "      <td>2.0</td>\n",
       "      <td>4</td>\n",
       "      <td>Automatic with Select Shift</td>\n",
       "      <td>Premium Gasoline</td>\n",
       "      <td>8.5</td>\n",
       "      <td>196</td>\n",
       "    </tr>\n",
       "    <tr>\n",
       "      <th>1</th>\n",
       "      <td>1</td>\n",
       "      <td>COMPACT</td>\n",
       "      <td>2.4</td>\n",
       "      <td>4</td>\n",
       "      <td>Manual</td>\n",
       "      <td>Premium Gasoline</td>\n",
       "      <td>9.6</td>\n",
       "      <td>221</td>\n",
       "    </tr>\n",
       "    <tr>\n",
       "      <th>2</th>\n",
       "      <td>2</td>\n",
       "      <td>COMPACT</td>\n",
       "      <td>1.5</td>\n",
       "      <td>4</td>\n",
       "      <td>Continuously Variable</td>\n",
       "      <td>Premium Gasoline</td>\n",
       "      <td>5.9</td>\n",
       "      <td>136</td>\n",
       "    </tr>\n",
       "    <tr>\n",
       "      <th>3</th>\n",
       "      <td>3</td>\n",
       "      <td>SUV - SMALL</td>\n",
       "      <td>3.5</td>\n",
       "      <td>6</td>\n",
       "      <td>Automatic with Select Shift</td>\n",
       "      <td>Premium Gasoline</td>\n",
       "      <td>11.1</td>\n",
       "      <td>255</td>\n",
       "    </tr>\n",
       "    <tr>\n",
       "      <th>4</th>\n",
       "      <td>4</td>\n",
       "      <td>SUV - SMALL</td>\n",
       "      <td>3.5</td>\n",
       "      <td>6</td>\n",
       "      <td>Automatic with Select Shift</td>\n",
       "      <td>Premium Gasoline</td>\n",
       "      <td>10.6</td>\n",
       "      <td>244</td>\n",
       "    </tr>\n",
       "  </tbody>\n",
       "</table>\n",
       "</div>"
      ],
      "text/plain": [
       "   Unnamed: 0 Vehicle Class  Engine Size(L)  Cylinders  \\\n",
       "0           0       COMPACT             2.0          4   \n",
       "1           1       COMPACT             2.4          4   \n",
       "2           2       COMPACT             1.5          4   \n",
       "3           3   SUV - SMALL             3.5          6   \n",
       "4           4   SUV - SMALL             3.5          6   \n",
       "\n",
       "                  Transmission         Fuel Type  \\\n",
       "0  Automatic with Select Shift  Premium Gasoline   \n",
       "1                       Manual  Premium Gasoline   \n",
       "2        Continuously Variable  Premium Gasoline   \n",
       "3  Automatic with Select Shift  Premium Gasoline   \n",
       "4  Automatic with Select Shift  Premium Gasoline   \n",
       "\n",
       "   Fuel Consumption Comb (L/100 km)  CO2 Emissions(g/km)  \n",
       "0                               8.5                  196  \n",
       "1                               9.6                  221  \n",
       "2                               5.9                  136  \n",
       "3                              11.1                  255  \n",
       "4                              10.6                  244  "
      ]
     },
     "execution_count": 8,
     "metadata": {},
     "output_type": "execute_result"
    }
   ],
   "source": [
    "df.head()"
   ]
  },
  {
   "cell_type": "markdown",
   "id": "9addb492-569b-41f9-9b49-36b141bb4571",
   "metadata": {},
   "source": [
    "### ***II. Uji Statistik***"
   ]
  },
  {
   "cell_type": "markdown",
   "id": "56db53ed-027a-4625-9a7a-c4ca3c515fb8",
   "metadata": {},
   "source": [
    "Jumlah sampel pada dataset jika dikelompokkan berdasarkan kategori dalam fitur, sebagian besar melebihi 30 sampel. Akan tetapi, karena nilai variance pada populasi tidak diketahui, maka uji statistik yang digunakan adalah t-test. Uji ini digunakan untuk menguji perbedaan nilai mean emisi karbon pada fitur kategorikal, yaitu \"Vehicle Class\"."
   ]
  },
  {
   "cell_type": "code",
   "execution_count": 10,
   "id": "f04bc3f3-ac37-4918-b956-a92aaa3385bb",
   "metadata": {},
   "outputs": [
    {
     "data": {
      "text/plain": [
       "array(['COMPACT', 'SUV - SMALL', 'MID-SIZE', 'TWO-SEATER', 'MINICOMPACT',\n",
       "       'SUBCOMPACT', 'FULL-SIZE', 'STATION WAGON - SMALL',\n",
       "       'SUV - STANDARD', 'VAN - CARGO', 'VAN - PASSENGER',\n",
       "       'PICKUP TRUCK - STANDARD', 'MINIVAN', 'SPECIAL PURPOSE VEHICLE',\n",
       "       'STATION WAGON - MID-SIZE', 'PICKUP TRUCK - SMALL'], dtype=object)"
      ]
     },
     "execution_count": 10,
     "metadata": {},
     "output_type": "execute_result"
    }
   ],
   "source": [
    "#cek unique name pada vehicle class\n",
    "df['Vehicle Class'].unique()"
   ]
  },
  {
   "cell_type": "code",
   "execution_count": null,
   "id": "a7220731-25de-4fe3-b2d7-f65beab6757a",
   "metadata": {},
   "outputs": [],
   "source": []
  },
  {
   "cell_type": "markdown",
   "id": "09dfef36-6591-4608-b378-b3afdcfa1668",
   "metadata": {},
   "source": [
    "Uji t-test untuk melihat perbandingan antara tipe compact dan SUV ukuran kecil.\n",
    "\n",
    "**H0 : compact >= SUV small**\n",
    "\n",
    "**H1 : compact < SUV small**"
   ]
  },
  {
   "cell_type": "code",
   "execution_count": 11,
   "id": "f5a4441e-9b13-4ebe-9ea4-f471b2b28908",
   "metadata": {},
   "outputs": [
    {
     "data": {
      "text/plain": [
       "array(['Premium Gasoline', 'Diesel', 'Regular Gasoline', 'Ethanol(E85)'],\n",
       "      dtype=object)"
      ]
     },
     "execution_count": 11,
     "metadata": {},
     "output_type": "execute_result"
    }
   ],
   "source": [
    "df['Fuel Type'].unique()"
   ]
  },
  {
   "cell_type": "code",
   "execution_count": 12,
   "id": "e6cfd3ed-0312-4b44-a48a-6f219d984962",
   "metadata": {},
   "outputs": [
    {
     "data": {
      "text/plain": [
       "(537.1671597633137, 834.3028575035771)"
      ]
     },
     "execution_count": 12,
     "metadata": {},
     "output_type": "execute_result"
    }
   ],
   "source": [
    "# vehicle class: compact\n",
    "data_group1 = df[(df['Vehicle Class'] == 'COMPACT') \n",
    "                 & (df['Fuel Type']== 'Regular Gasoline') & (df['Transmission']== 'Automatic')]['CO2 Emissions(g/km)'].values\n",
    "\n",
    "# vehicle class: SUV - small\n",
    "data_group2 = df[(df['Vehicle Class'] == 'SUV - SMALL') \n",
    "                 & (df['Fuel Type']== 'Regular Gasoline') & (df['Transmission']== 'Automatic')]['CO2 Emissions(g/km)'].values\n",
    "\n",
    "# variance \n",
    "np.var(data_group1), np.var(data_group2)"
   ]
  },
  {
   "cell_type": "code",
   "execution_count": 13,
   "id": "507a7c9c-154b-4414-9c2b-b62a971749f6",
   "metadata": {},
   "outputs": [],
   "source": [
    "# hasil t-test\n",
    "result = stats.ttest_ind(a = data_group1, \n",
    "                         b = data_group2, \n",
    "                         equal_var=False, \n",
    "                         alternative = \"less\")\n"
   ]
  },
  {
   "cell_type": "code",
   "execution_count": 14,
   "id": "2cf6889f-96c0-4fed-8fdb-fb96f833514d",
   "metadata": {},
   "outputs": [
    {
     "data": {
      "text/plain": [
       "-10.650039130024899"
      ]
     },
     "execution_count": 14,
     "metadata": {},
     "output_type": "execute_result"
    }
   ],
   "source": [
    "result.statistic"
   ]
  },
  {
   "cell_type": "code",
   "execution_count": 15,
   "id": "e55e5642-58ca-4ee2-acc0-63ffdcfc9c47",
   "metadata": {},
   "outputs": [
    {
     "data": {
      "text/plain": [
       "9.095017704628163e-13"
      ]
     },
     "execution_count": 15,
     "metadata": {},
     "output_type": "execute_result"
    }
   ],
   "source": [
    "result.pvalue"
   ]
  },
  {
   "cell_type": "code",
   "execution_count": 16,
   "id": "579b963b-8234-4a17-910b-269ca2db65cb",
   "metadata": {},
   "outputs": [
    {
     "name": "stdout",
     "output_type": "stream",
     "text": [
      "Reject the null hypothesis\n"
     ]
    }
   ],
   "source": [
    "# Menentukan aturan keputusan\n",
    "if result.pvalue<0.05:\n",
    "    print(\"Reject the null hypothesis\")\n",
    "else:\n",
    "    print(\"Failed to reject the Null hypothesis\")"
   ]
  },
  {
   "cell_type": "code",
   "execution_count": 17,
   "id": "7caa8606-bc74-408d-bae4-2e269980edcb",
   "metadata": {},
   "outputs": [
    {
     "data": {
      "text/plain": [
       "242"
      ]
     },
     "execution_count": 17,
     "metadata": {},
     "output_type": "execute_result"
    }
   ],
   "source": [
    "df_data = len(data_group1)+len(data_group2)-2\n",
    "df_data"
   ]
  },
  {
   "cell_type": "code",
   "execution_count": 18,
   "id": "703ba746-92d0-40bf-896b-f23d5f3cfdf4",
   "metadata": {},
   "outputs": [
    {
     "data": {
      "image/png": "[encoded data removed]",
      "text/plain": [
       "<Figure size 640x480 with 1 Axes>"
      ]
     },
     "metadata": {},
     "output_type": "display_data"
    }
   ],
   "source": [
    "# plot sample distribution \n",
    "x = np.arange(-11, 4, 0.001)\n",
    "plt.plot(x, stats.t.pdf(x, df = df_data), \n",
    "         color='blue')\n",
    "\n",
    "# plot alpha region\n",
    "x_alpha = np.arange(stats.t.ppf(1-0.05, df = df_data), 4, 0.01)\n",
    "y_alpha = stats.t.pdf(x_alpha, df = df_data)\n",
    "plt.fill_between(x = x_alpha, \n",
    "                 y1 = y_alpha,\n",
    "                 facecolor = 'red',\n",
    "                 alpha = 0.35, \n",
    "                 label = 'alpha')\n",
    "\n",
    "# plot pvalue\n",
    "x_pvalue = np.arange(result.statistic, 4, 0.01)\n",
    "y_pvalue = stats.t.pdf(x_pvalue, df = df_data)\n",
    "\n",
    "plt.fill_between(x = x_pvalue, \n",
    "                 y1 = y_pvalue,\n",
    "                 facecolor = 'green',\n",
    "                 alpha = 0.35, \n",
    "                 label = 'pvalue')\n",
    "\n",
    "# plot t-crit and t-stats\n",
    "plt.axvline(np.round(result.statistic, 4), \n",
    "            color =\"green\", \n",
    "            linestyle = \"--\", \n",
    "            label =\"t-stat\")\n",
    "\n",
    "t_crit = np.round(stats.t.ppf(1-0.05, df = df_data), 4)\n",
    "plt.axvline(t_crit, \n",
    "            color =\"red\", \n",
    "            linestyle = \"--\", \n",
    "            label =\"t-crit\")\n",
    "\n",
    "plt.legend()\n",
    "plt.xlabel(\"t\")\n",
    "plt.ylabel(\"density\")\n",
    "\n",
    "\n",
    "plt.title(f't Distribution Plot with df = {df_data} \\n\\n t-statistic = {np.round(result.statistic, 4)}, t_crit = {np.round(t_crit,4)}, alpha = 0.05');"
   ]
  },
  {
   "cell_type": "code",
   "execution_count": 19,
   "id": "5f5c3f13-261b-48d5-a8f2-bb6289eaba8c",
   "metadata": {},
   "outputs": [
    {
     "name": "stdout",
     "output_type": "stream",
     "text": [
      "Confidence Interval : [ -inf -45.09576427157478 ]\n"
     ]
    }
   ],
   "source": [
    "# confidence interval\n",
    "\n",
    "cm = CompareMeans(d1 = DescrStatsW(data=data_group1), \n",
    "                  d2 = DescrStatsW(data=data_group2))\n",
    "\n",
    "lower, upper = cm.tconfint_diff(alpha=0.05, \n",
    "                                alternative='smaller', \n",
    "                                usevar='unequal')\n",
    "\n",
    "print(\"Confidence Interval\", \":\", \"[\", lower, upper, \"]\")"
   ]
  },
  {
   "cell_type": "code",
   "execution_count": 20,
   "id": "ecd92899-8067-4251-9bce-1ccb13daba3e",
   "metadata": {},
   "outputs": [
    {
     "data": {
      "text/plain": [
       "array(['COMPACT', 'SUV - SMALL', 'MID-SIZE', 'TWO-SEATER', 'MINICOMPACT',\n",
       "       'SUBCOMPACT', 'FULL-SIZE', 'STATION WAGON - SMALL',\n",
       "       'SUV - STANDARD', 'VAN - CARGO', 'VAN - PASSENGER',\n",
       "       'PICKUP TRUCK - STANDARD', 'MINIVAN', 'SPECIAL PURPOSE VEHICLE',\n",
       "       'STATION WAGON - MID-SIZE', 'PICKUP TRUCK - SMALL'], dtype=object)"
      ]
     },
     "execution_count": 20,
     "metadata": {},
     "output_type": "execute_result"
    }
   ],
   "source": [
    "df['Vehicle Class'].unique()"
   ]
  },
  {
   "cell_type": "markdown",
   "id": "fe731fbc-d983-4ff3-94f8-f6a6d7db9144",
   "metadata": {},
   "source": [
    "Uji t-test untuk melihat perbandingan antara nilai mean sample tipe SUV ukuran kecil dan SUV ukuran standar.\n",
    "\n",
    "**H0 : SUV small >= SUV standard**\n",
    "\n",
    "**H1 : SUV small < SUV standard**"
   ]
  },
  {
   "cell_type": "code",
   "execution_count": 21,
   "id": "776c58b5-c4da-4613-aba7-6902213251b0",
   "metadata": {},
   "outputs": [
    {
     "data": {
      "text/plain": [
       "(834.3028575035771, 871.3986282578876)"
      ]
     },
     "execution_count": 21,
     "metadata": {},
     "output_type": "execute_result"
    }
   ],
   "source": [
    "# vehicle class: SUV small\n",
    "data_group3 = df[(df['Vehicle Class']== 'SUV - SMALL')\n",
    "                 & (df['Fuel Type']== 'Regular Gasoline') & (df['Transmission']== 'Automatic')]['CO2 Emissions(g/km)'].values\n",
    "\n",
    "# vehicle class: SUV standard\n",
    "data_group4 = df[(df['Vehicle Class']== 'SUV - STANDARD')\n",
    "                 & (df['Fuel Type']== 'Regular Gasoline') & (df['Transmission']== 'Automatic')]['CO2 Emissions(g/km)'].values\n",
    "\n",
    "# variance \n",
    "np.var(data_group3), np.var(data_group4)"
   ]
  },
  {
   "cell_type": "code",
   "execution_count": 22,
   "id": "a9d205cb-2219-4c23-9369-446372824b1c",
   "metadata": {},
   "outputs": [],
   "source": [
    "# hasil uji t-test\n",
    "result2 = stats.ttest_ind(a = data_group3, \n",
    "                         b = data_group4, \n",
    "                         equal_var=False, \n",
    "                         alternative = \"less\")\n"
   ]
  },
  {
   "cell_type": "code",
   "execution_count": 23,
   "id": "13ab326a-8ea6-422a-b547-189d7e92632e",
   "metadata": {},
   "outputs": [
    {
     "data": {
      "text/plain": [
       "-17.986339228346456"
      ]
     },
     "execution_count": 23,
     "metadata": {},
     "output_type": "execute_result"
    }
   ],
   "source": [
    "result2.statistic"
   ]
  },
  {
   "cell_type": "code",
   "execution_count": 24,
   "id": "ff7cb7e4-4fe8-43e1-abec-60e563fa295b",
   "metadata": {},
   "outputs": [
    {
     "data": {
      "text/plain": [
       "7.338809601337889e-49"
      ]
     },
     "execution_count": 24,
     "metadata": {},
     "output_type": "execute_result"
    }
   ],
   "source": [
    "#P-Value\n",
    "result2.pvalue"
   ]
  },
  {
   "cell_type": "code",
   "execution_count": 25,
   "id": "292da07c-f221-49fe-866a-da62adc16164",
   "metadata": {},
   "outputs": [
    {
     "name": "stdout",
     "output_type": "stream",
     "text": [
      "Reject the null hypothesis\n"
     ]
    }
   ],
   "source": [
    "# Menentukan aturan keputusan\n",
    "if result2.pvalue<0.05:\n",
    "    print(\"Reject the null hypothesis\")\n",
    "else:\n",
    "    print(\"Failed to reject the Null hypothesis\")"
   ]
  },
  {
   "cell_type": "code",
   "execution_count": 26,
   "id": "f06f283a-ed85-41eb-80b1-626450d1824b",
   "metadata": {},
   "outputs": [
    {
     "data": {
      "text/plain": [
       "351"
      ]
     },
     "execution_count": 26,
     "metadata": {},
     "output_type": "execute_result"
    }
   ],
   "source": [
    "df_data2 = len(data_group3)+len(data_group4)-2\n",
    "df_data2"
   ]
  },
  {
   "cell_type": "code",
   "execution_count": 27,
   "id": "a94bf0fc-bf36-4460-a168-752d4e83db14",
   "metadata": {},
   "outputs": [
    {
     "data": {
      "image/png": "[encoded data removed]",
      "text/plain": [
       "<Figure size 640x480 with 1 Axes>"
      ]
     },
     "metadata": {},
     "output_type": "display_data"
    }
   ],
   "source": [
    "\n",
    "# plot sample distribution \n",
    "x = np.arange(-20, 5, 0.001)\n",
    "plt.plot(x, stats.t.pdf(x, df = df_data2), \n",
    "         color='blue')\n",
    "\n",
    "# plot alpha region\n",
    "x_alpha = np.arange(stats.t.ppf(1-0.05, df = df_data2), 4, 0.01)\n",
    "y_alpha = stats.t.pdf(x_alpha, df = df_data2)\n",
    "plt.fill_between(x = x_alpha, \n",
    "                 y1 = y_alpha,\n",
    "                 facecolor = 'red',\n",
    "                 alpha = 0.35, \n",
    "                 label = 'alpha')\n",
    "\n",
    "# plot pvalue\n",
    "x_pvalue = np.arange(result2.statistic, 4, 0.01)\n",
    "y_pvalue = stats.t.pdf(x_pvalue, df = df_data2)\n",
    "\n",
    "plt.fill_between(x = x_pvalue, \n",
    "                 y1 = y_pvalue,\n",
    "                 facecolor = 'green',\n",
    "                 alpha = 0.35, \n",
    "                 label = 'pvalue')\n",
    "\n",
    "# plot t-crit and t-stats\n",
    "plt.axvline(np.round(result2.statistic, 4), \n",
    "            color =\"green\", \n",
    "            linestyle = \"--\", \n",
    "            label =\"t-stat\")\n",
    "\n",
    "t_crit = np.round(stats.t.ppf(1-0.05, df = df_data2), 4)\n",
    "plt.axvline(t_crit, \n",
    "            color =\"red\", \n",
    "            linestyle = \"--\", \n",
    "            label =\"t-crit\")\n",
    "\n",
    "plt.legend()\n",
    "plt.xlabel(\"t\")\n",
    "plt.ylabel(\"density\")\n",
    "\n",
    "\n",
    "plt.title(f't Distribution Plot with df = {df_data2} \\n\\n t-statistic = {np.round(result2.statistic, 4)}, t_crit = {np.round(t_crit,4)}, alpha = 0.05');"
   ]
  },
  {
   "cell_type": "code",
   "execution_count": 31,
   "id": "cae56a9d-65a1-49f3-b55c-34e0f491d29d",
   "metadata": {},
   "outputs": [
    {
     "name": "stdout",
     "output_type": "stream",
     "text": [
      "Confidence Interval : [ -inf -52.5493778883436 ]\n"
     ]
    }
   ],
   "source": [
    "# confidence interval\n",
    "\n",
    "cm = CompareMeans(d1 = DescrStatsW(data=data_group3), \n",
    "                  d2 = DescrStatsW(data=data_group4))\n",
    "\n",
    "lower, upper = cm.tconfint_diff(alpha=0.05, \n",
    "                                alternative='smaller', \n",
    "                                usevar='unequal')\n",
    "\n",
    "print(\"Confidence Interval\", \":\", \"[\", lower, upper, \"]\")"
   ]
  },
  {
   "cell_type": "markdown",
   "id": "93314b49-31da-4550-bbf7-339c17d1bde2",
   "metadata": {},
   "source": [
    "Uji t-test untuk melihat perbandingan antara nilai mean sample tipe SUV ukuran kecil dan SUV ukuran standar.\n",
    "\n",
    "**H0 : Cargo Van >= Passenger Van**\n",
    "\n",
    "**H1 : Cargo Van < Passenger Van**\n"
   ]
  },
  {
   "cell_type": "code",
   "execution_count": 32,
   "id": "24757ec2-8f28-4a70-86e1-2242c48ee39e",
   "metadata": {},
   "outputs": [
    {
     "data": {
      "text/plain": [
       "(189.4097222222222, 576.0195918367347)"
      ]
     },
     "execution_count": 32,
     "metadata": {},
     "output_type": "execute_result"
    }
   ],
   "source": [
    "# vehicle class: van - cargo\n",
    "data_group5 = df[(df['Vehicle Class']== 'VAN - CARGO' )\n",
    "                & (df['Fuel Type']== 'Regular Gasoline') & (df['Transmission']== 'Automatic')]['CO2 Emissions(g/km)'].values\n",
    "\n",
    "# vehicle class: van - passenger\n",
    "data_group6 = df[(df['Vehicle Class']== 'VAN - PASSENGER')\n",
    "                & (df['Fuel Type']== 'Regular Gasoline') & (df['Transmission']== 'Automatic')]['CO2 Emissions(g/km)'].values\n",
    "\n",
    "# variance \n",
    "np.var(data_group5), np.var(data_group6)"
   ]
  },
  {
   "cell_type": "code",
   "execution_count": 33,
   "id": "b3f618b4-7b79-4af0-9828-7d3d24995df5",
   "metadata": {},
   "outputs": [],
   "source": [
    "result3 = stats.ttest_ind(a = data_group5, \n",
    "                         b = data_group6, \n",
    "                         equal_var=False, \n",
    "                         alternative = \"less\")\n"
   ]
  },
  {
   "cell_type": "code",
   "execution_count": 34,
   "id": "1d3840b4-699f-4957-b7ff-4ee870be6243",
   "metadata": {},
   "outputs": [
    {
     "data": {
      "text/plain": [
       "-9.175142401360802"
      ]
     },
     "execution_count": 34,
     "metadata": {},
     "output_type": "execute_result"
    }
   ],
   "source": [
    "result3.statistic"
   ]
  },
  {
   "cell_type": "code",
   "execution_count": 35,
   "id": "e1fedcb4-4774-47c9-84fd-51b5089f001a",
   "metadata": {},
   "outputs": [
    {
     "data": {
      "text/plain": [
       "6.737808760089936e-11"
      ]
     },
     "execution_count": 35,
     "metadata": {},
     "output_type": "execute_result"
    }
   ],
   "source": [
    "result3.pvalue"
   ]
  },
  {
   "cell_type": "code",
   "execution_count": 37,
   "id": "d58fcad6-72a1-4444-b57a-942780410acd",
   "metadata": {},
   "outputs": [
    {
     "name": "stdout",
     "output_type": "stream",
     "text": [
      "Reject the null hypothesis\n"
     ]
    }
   ],
   "source": [
    "# Menentukan aturan keputusan\n",
    "if result3.pvalue<0.05:\n",
    "    print(\"Reject the null hypothesis\")\n",
    "else:\n",
    "    print(\"Failed to reject the Null hypothesis\")"
   ]
  },
  {
   "cell_type": "code",
   "execution_count": 39,
   "id": "2cf74daa-d16a-40b9-a59a-a6914f87a80d",
   "metadata": {},
   "outputs": [
    {
     "data": {
      "image/png": "[encoded data removed]",
      "text/plain": [
       "<Figure size 640x480 with 1 Axes>"
      ]
     },
     "metadata": {},
     "output_type": "display_data"
    }
   ],
   "source": [
    "# plot sample distribution \n",
    "x = np.arange(-10, 5, 0.001)\n",
    "plt.plot(x, stats.t.pdf(x, df = df_data3), \n",
    "         color='blue')\n",
    "\n",
    "# plot alpha region\n",
    "x_alpha = np.arange(stats.t.ppf(1-0.05, df = df_data3), 4, 0.01)\n",
    "y_alpha = stats.t.pdf(x_alpha, df = df_data2)\n",
    "plt.fill_between(x = x_alpha, \n",
    "                 y1 = y_alpha,\n",
    "                 facecolor = 'red',\n",
    "                 alpha = 0.35, \n",
    "                 label = 'alpha')\n",
    "\n",
    "# plot pvalue\n",
    "x_pvalue = np.arange(result3.statistic, 4, 0.01)\n",
    "y_pvalue = stats.t.pdf(x_pvalue, df = df_data2)\n",
    "\n",
    "plt.fill_between(x = x_pvalue, \n",
    "                 y1 = y_pvalue,\n",
    "                 facecolor = 'green',\n",
    "                 alpha = 0.35, \n",
    "                 label = 'pvalue')\n",
    "\n",
    "# plot t-crit and t-stats\n",
    "plt.axvline(np.round(result3.statistic, 4), \n",
    "            color =\"green\", \n",
    "            linestyle = \"--\", \n",
    "            label =\"t-stat\")\n",
    "\n",
    "t_crit = np.round(stats.t.ppf(1-0.05, df = df_data3), 4)\n",
    "plt.axvline(t_crit, \n",
    "            color =\"red\", \n",
    "            linestyle = \"--\", \n",
    "            label =\"t-crit\")\n",
    "\n",
    "plt.legend()\n",
    "plt.xlabel(\"t\")\n",
    "plt.ylabel(\"density\")\n",
    "\n",
    "\n",
    "plt.title(f't Distribution Plot with df = {df_data3} \\n\\n t-statistic = {np.round(result3.statistic, 4)}, t_crit = {np.round(t_crit,4)}, alpha = 0.05');"
   ]
  },
  {
   "cell_type": "code",
   "execution_count": 40,
   "id": "c12d9f01-bf7f-4409-bd16-ca9381e53943",
   "metadata": {},
   "outputs": [
    {
     "name": "stdout",
     "output_type": "stream",
     "text": [
      "Confidence Interval : [ -inf -43.73453747722792 ]\n"
     ]
    }
   ],
   "source": [
    "# confidence interval\n",
    "\n",
    "cm = CompareMeans(d1 = DescrStatsW(data=data_group5), \n",
    "                  d2 = DescrStatsW(data=data_group6))\n",
    "\n",
    "lower, upper = cm.tconfint_diff(alpha=0.05, \n",
    "                                alternative='smaller', \n",
    "                                usevar='unequal')\n",
    "\n",
    "print(\"Confidence Interval\", \":\", \"[\", lower, upper, \"]\")"
   ]
  },
  {
   "cell_type": "code",
   "execution_count": null,
   "id": "5f6d1877-65f5-4769-b47e-24b6fea41c63",
   "metadata": {},
   "outputs": [],
   "source": []
  },
  {
   "cell_type": "code",
   "execution_count": null,
   "id": "680132d2-ebbd-4022-9164-4a54dcccefc9",
   "metadata": {},
   "outputs": [],
   "source": []
  }
 ],
 "metadata": {
  "kernelspec": {
   "display_name": "Python 3 (ipykernel)",
   "language": "python",
   "name": "python3"
  },
  "language_info": {
   "codemirror_mode": {
    "name": "ipython",
    "version": 3
   },
   "file_extension": ".py",
   "mimetype": "text/x-python",
   "name": "python",
   "nbconvert_exporter": "python",
   "pygments_lexer": "ipython3",
   "version": "3.9.13"
  }
 },
 "nbformat": 4,
 "nbformat_minor": 5
}
